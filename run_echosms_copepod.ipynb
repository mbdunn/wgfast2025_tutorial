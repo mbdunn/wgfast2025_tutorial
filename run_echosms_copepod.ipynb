{
 "cells": [
  {
   "cell_type": "markdown",
   "metadata": {},
   "source": [
    "This notebook will test using the package echoSMs to run the DWBA model on an average copepod ($\\textit{Calanus finmarchicus}$) in Frohavet"
   ]
  },
  {
   "cell_type": "code",
   "execution_count": 1,
   "metadata": {},
   "outputs": [],
   "source": [
    "import echosms\n",
    "import xarray as xr\n",
    "import numpy as np\n",
    "import pandas as pd\n",
    "import matplotlib.pyplot as plt\n",
    "import geomdl as geo"
   ]
  },
  {
   "cell_type": "markdown",
   "metadata": {},
   "source": [
    "## Define parameters"
   ]
  },
  {
   "cell_type": "code",
   "execution_count": 37,
   "metadata": {},
   "outputs": [],
   "source": [
    "p = {'medium_rho': 1027.8,\n",
    "     'medium_c': 1480,\n",
    "     'a': np.arange(3.0, 3.3, 0.01)/2*0.001,\n",
    "     'b': 0.001,\n",
    "     'boundary_type': 'fluid filled',\n",
    "     'target_rho': 1025, #Kogeler 1987\n",
    "     'target_c': 1520, #Kogeler 1987\n",
    "     'theta': 90,\n",
    "     'phi': 0,\n",
    "     'f': np.arange(180, 220, 10)*1000}"
   ]
  },
  {
   "cell_type": "code",
   "execution_count": null,
   "metadata": {},
   "outputs": [],
   "source": []
  },
  {
   "cell_type": "markdown",
   "metadata": {},
   "source": [
    "## Import shape"
   ]
  },
  {
   "cell_type": "code",
   "execution_count": 38,
   "metadata": {},
   "outputs": [],
   "source": [
    "fn = '../phd/ZooScatStuff/Shapes/Copepod_KB3_TT_150122_0134.sat'"
   ]
  },
  {
   "cell_type": "code",
   "execution_count": 39,
   "metadata": {},
   "outputs": [],
   "source": [
    "s = pd.read_csv(fn, delimiter=' ', names=['y', 'x', 'a'])\n",
    "\n",
    "# Adjust the data to match the echoSMs units\n",
    "s /= 1000  # convert mm to m\n",
    "\n",
    "# .sat files don't have a z coordinate but echoSMs requires it\n",
    "s['z'] = 0.0\n",
    "\n",
    "# An example of flipping left to right to match the echoSMS coordinate system\n",
    "s['x'] = max(s['x']) - s['x']\n",
    "\n",
    "shape = echosms.create_dwba_from_xyza(s['x'], s['y'], s['z'], s['a'], name=fn, g=1.05, h=1.05)"
   ]
  },
  {
   "cell_type": "code",
   "execution_count": 40,
   "metadata": {},
   "outputs": [],
   "source": [
    "p['rv_pos'] = shape.rv_pos\n",
    "p['rv_tan'] = shape.rv_tan\n",
    "p['a'] = shape.a"
   ]
  },
  {
   "cell_type": "code",
   "execution_count": 41,
   "metadata": {},
   "outputs": [
    {
     "data": {
      "text/plain": [
       "0.000523194448666318"
      ]
     },
     "execution_count": 41,
     "metadata": {},
     "output_type": "execute_result"
    }
   ],
   "source": [
    "p['a'].max()\n"
   ]
  },
  {
   "cell_type": "markdown",
   "metadata": {},
   "source": [
    "## Select model\n",
    "We will use DWBA to start"
   ]
  },
  {
   "cell_type": "code",
   "execution_count": 42,
   "metadata": {},
   "outputs": [
    {
     "data": {
      "text/html": [
       "<div>\n",
       "<style scoped>\n",
       "    .dataframe tbody tr th:only-of-type {\n",
       "        vertical-align: middle;\n",
       "    }\n",
       "\n",
       "    .dataframe tbody tr th {\n",
       "        vertical-align: top;\n",
       "    }\n",
       "\n",
       "    .dataframe thead th {\n",
       "        text-align: right;\n",
       "    }\n",
       "</style>\n",
       "<table border=\"1\" class=\"dataframe\">\n",
       "  <thead>\n",
       "    <tr style=\"text-align: right;\">\n",
       "      <th></th>\n",
       "      <th>medium_rho</th>\n",
       "      <th>medium_c</th>\n",
       "      <th>b</th>\n",
       "      <th>boundary_type</th>\n",
       "      <th>target_rho</th>\n",
       "      <th>target_c</th>\n",
       "      <th>theta</th>\n",
       "      <th>phi</th>\n",
       "      <th>f</th>\n",
       "      <th>ts</th>\n",
       "    </tr>\n",
       "  </thead>\n",
       "  <tbody>\n",
       "    <tr>\n",
       "      <th>0</th>\n",
       "      <td>1027.8</td>\n",
       "      <td>1480</td>\n",
       "      <td>0.001</td>\n",
       "      <td>fluid filled</td>\n",
       "      <td>1025</td>\n",
       "      <td>1520</td>\n",
       "      <td>90</td>\n",
       "      <td>0</td>\n",
       "      <td>180000</td>\n",
       "      <td>-108.358023</td>\n",
       "    </tr>\n",
       "    <tr>\n",
       "      <th>1</th>\n",
       "      <td>1027.8</td>\n",
       "      <td>1480</td>\n",
       "      <td>0.001</td>\n",
       "      <td>fluid filled</td>\n",
       "      <td>1025</td>\n",
       "      <td>1520</td>\n",
       "      <td>90</td>\n",
       "      <td>0</td>\n",
       "      <td>190000</td>\n",
       "      <td>-107.481345</td>\n",
       "    </tr>\n",
       "    <tr>\n",
       "      <th>2</th>\n",
       "      <td>1027.8</td>\n",
       "      <td>1480</td>\n",
       "      <td>0.001</td>\n",
       "      <td>fluid filled</td>\n",
       "      <td>1025</td>\n",
       "      <td>1520</td>\n",
       "      <td>90</td>\n",
       "      <td>0</td>\n",
       "      <td>200000</td>\n",
       "      <td>-106.656385</td>\n",
       "    </tr>\n",
       "    <tr>\n",
       "      <th>3</th>\n",
       "      <td>1027.8</td>\n",
       "      <td>1480</td>\n",
       "      <td>0.001</td>\n",
       "      <td>fluid filled</td>\n",
       "      <td>1025</td>\n",
       "      <td>1520</td>\n",
       "      <td>90</td>\n",
       "      <td>0</td>\n",
       "      <td>210000</td>\n",
       "      <td>-105.878466</td>\n",
       "    </tr>\n",
       "  </tbody>\n",
       "</table>\n",
       "</div>"
      ],
      "text/plain": [
       "   medium_rho  medium_c      b boundary_type  target_rho  target_c  theta  \\\n",
       "0      1027.8      1480  0.001  fluid filled        1025      1520     90   \n",
       "1      1027.8      1480  0.001  fluid filled        1025      1520     90   \n",
       "2      1027.8      1480  0.001  fluid filled        1025      1520     90   \n",
       "3      1027.8      1480  0.001  fluid filled        1025      1520     90   \n",
       "\n",
       "   phi       f          ts  \n",
       "0    0  180000 -108.358023  \n",
       "1    0  190000 -107.481345  \n",
       "2    0  200000 -106.656385  \n",
       "3    0  210000 -105.878466  "
      ]
     },
     "execution_count": 42,
     "metadata": {},
     "output_type": "execute_result"
    }
   ],
   "source": [
    "model = echosms.DWBAModel()\n",
    "ts_df = model.calculate_ts(p, expand=True)\n",
    "ts_df"
   ]
  },
  {
   "cell_type": "markdown",
   "metadata": {},
   "source": [
    "## Plot"
   ]
  },
  {
   "cell_type": "code",
   "execution_count": 43,
   "metadata": {},
   "outputs": [
    {
     "data": {
      "text/plain": [
       "<matplotlib.legend.Legend at 0x1dc98b57230>"
      ]
     },
     "execution_count": 43,
     "metadata": {},
     "output_type": "execute_result"
    },
    {
     "data": {
      "image/png": "[encoded data removed]",
      "text/plain": [
       "<Figure size 640x480 with 1 Axes>"
      ]
     },
     "metadata": {},
     "output_type": "display_data"
    }
   ],
   "source": [
    "fig, ax = plt.subplots(1, 1, sharex=True)\n",
    "\n",
    "ax.plot(ts_df['f']/1e3, ts_df['ts'], '.', label='echoSMs')\n",
    "ax.set_ylabel('TS re 1 m$^2$ [dB]')\n",
    "ax.legend(frameon=False, fontsize=6)\n"
   ]
  },
  {
   "cell_type": "code",
   "execution_count": null,
   "metadata": {},
   "outputs": [],
   "source": []
  }
 ],
 "metadata": {
  "kernelspec": {
   "display_name": "wgfast",
   "language": "python",
   "name": "python3"
  },
  "language_info": {
   "codemirror_mode": {
    "name": "ipython",
    "version": 3
   },
   "file_extension": ".py",
   "mimetype": "text/x-python",
   "name": "python",
   "nbconvert_exporter": "python",
   "pygments_lexer": "ipython3",
   "version": "3.12.9"
  }
 },
 "nbformat": 4,
 "nbformat_minor": 2
}
