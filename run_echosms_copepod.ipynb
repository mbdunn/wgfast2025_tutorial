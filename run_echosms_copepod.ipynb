{
 "cells": [
  {
   "cell_type": "markdown",
   "metadata": {},
   "source": [
    "This notebook will test using the package echoSMs to run the DWBA model on an average copepod ($\\textit{Calanus finmarchicus}$) in Frohavet"
   ]
  },
  {
   "cell_type": "code",
   "execution_count": 1,
   "metadata": {},
   "outputs": [],
   "source": [
    "import echosms\n",
    "import xarray as xr\n",
    "import numpy as np\n",
    "import pandas as pd\n",
    "import matplotlib.pyplot as plt\n",
    "import geomdl as geo"
   ]
  },
  {
   "cell_type": "markdown",
   "metadata": {},
   "source": [
    "## Define parameters"
   ]
  },
  {
   "cell_type": "code",
   "execution_count": 2,
   "metadata": {},
   "outputs": [],
   "source": [
    "p = {'medium_rho': 1027.8,\n",
    "     'medium_c': 1480,\n",
    "     'a': np.arange(3.0, 3.3, 0.01)/2*0.001,\n",
    "     'b': 0.001,\n",
    "     'boundary_type': 'fluid filled',\n",
    "     'target_rho': 1025, #Kogeler 1987\n",
    "     'target_c': 1520, #Kogeler 1987\n",
    "     'theta': 90,\n",
    "     'phi': 0,\n",
    "     'f': np.arange(180, 220, 10)*1000}"
   ]
  },
  {
   "cell_type": "code",
   "execution_count": null,
   "metadata": {},
   "outputs": [],
   "source": []
  },
  {
   "cell_type": "markdown",
   "metadata": {},
   "source": [
    "## Import shape"
   ]
  },
  {
   "cell_type": "code",
   "execution_count": 3,
   "metadata": {},
   "outputs": [],
   "source": [
    "fn = '../phd/ZooScatStuff/Shapes/Copepod_KB3_TT_150122_0134.sat'"
   ]
  },
  {
   "cell_type": "code",
   "execution_count": 4,
   "metadata": {},
   "outputs": [],
   "source": [
    "s = pd.read_csv(fn, delimiter=' ', names=['y', 'x', 'a'])\n",
    "\n",
    "# Adjust the data to match the echoSMs units\n",
    "s /= 1000  # convert mm to m\n",
    "\n",
    "# .sat files don't have a z coordinate but echoSMs requires it\n",
    "s['z'] = 0.0\n",
    "\n",
    "# An example of flipping left to right to match the echoSMS coordinate system\n",
    "s['x'] = max(s['x']) - s['x']\n",
    "\n",
    "shape = echosms.create_dwba_from_xyza(s['x'], s['y'], s['z'], s['a'], name=fn, g=1.05, h=1.05)"
   ]
  },
  {
   "cell_type": "code",
   "execution_count": 5,
   "metadata": {},
   "outputs": [],
   "source": [
    "p['rv_pos'] = shape.rv_pos\n",
    "p['rv_tan'] = shape.rv_tan\n",
    "p['a'] = shape.a"
   ]
  },
  {
   "cell_type": "code",
   "execution_count": 11,
   "metadata": {},
   "outputs": [
    {
     "data": {
      "text/plain": [
       "0.000523194448666318"
      ]
     },
     "execution_count": 11,
     "metadata": {},
     "output_type": "execute_result"
    }
   ],
   "source": [
    "p['a'].max()\n",
    "\n"
   ]
  },
  {
   "cell_type": "code",
   "execution_count": 7,
   "metadata": {},
   "outputs": [
    {
     "data": {
      "text/plain": [
       "{'medium_rho': 1027.8,\n",
       " 'medium_c': 1480,\n",
       " 'a': 0      0.000022\n",
       " 1      0.000331\n",
       " 2      0.000339\n",
       " 3      0.000348\n",
       " 4      0.000357\n",
       "          ...   \n",
       " 140    0.000265\n",
       " 141    0.000257\n",
       " 142    0.000247\n",
       " 143    0.000239\n",
       " 144    0.000231\n",
       " Name: a, Length: 145, dtype: float64,\n",
       " 'b': 0.001,\n",
       " 'boundary_type': 'fluid filled',\n",
       " 'target_rho': 1025,\n",
       " 'target_c': 1520,\n",
       " 'theta': 90,\n",
       " 'phi': 0,\n",
       " 'f': array([180000, 190000, 200000, 210000]),\n",
       " 'rv_pos': array([[3.08000000e-03, 0.00000000e+00, 0.00000000e+00],\n",
       "        [2.86000000e-03, 2.65301820e-05, 0.00000000e+00],\n",
       "        [2.84000000e-03, 3.20306879e-05, 0.00000000e+00],\n",
       "        [2.82000000e-03, 3.75311938e-05, 0.00000000e+00],\n",
       "        [2.80000000e-03, 4.39484507e-05, 0.00000000e+00],\n",
       "        [2.78000000e-03, 4.94489566e-05, 0.00000000e+00],\n",
       "        [2.76000000e-03, 5.49494625e-05, 0.00000000e+00],\n",
       "        [2.74000000e-03, 6.13667194e-05, 0.00000000e+00],\n",
       "        [2.72000000e-03, 6.68672253e-05, 0.00000000e+00],\n",
       "        [2.70000000e-03, 7.23677313e-05, 0.00000000e+00],\n",
       "        [2.68000000e-03, 7.47611147e-05, 0.00000000e+00],\n",
       "        [2.66000000e-03, 7.65231914e-05, 0.00000000e+00],\n",
       "        [2.64000000e-03, 7.80335429e-05, 0.00000000e+00],\n",
       "        [2.62000000e-03, 7.95438944e-05, 0.00000000e+00],\n",
       "        [2.60000000e-03, 8.13059711e-05, 0.00000000e+00],\n",
       "        [2.58000000e-03, 8.28163226e-05, 0.00000000e+00],\n",
       "        [2.56000000e-03, 8.43266741e-05, 0.00000000e+00],\n",
       "        [2.54000000e-03, 8.60887508e-05, 0.00000000e+00],\n",
       "        [2.52000000e-03, 8.75991023e-05, 0.00000000e+00],\n",
       "        [2.50000000e-03, 8.91094538e-05, 0.00000000e+00],\n",
       "        [2.48000000e-03, 9.06198053e-05, 0.00000000e+00],\n",
       "        [2.46000000e-03, 9.23818820e-05, 0.00000000e+00],\n",
       "        [2.44000000e-03, 9.38922335e-05, 0.00000000e+00],\n",
       "        [2.42000000e-03, 9.54025850e-05, 0.00000000e+00],\n",
       "        [2.40000000e-03, 9.78173572e-05, 0.00000000e+00],\n",
       "        [2.38000000e-03, 1.00607440e-04, 0.00000000e+00],\n",
       "        [2.36000000e-03, 1.03397522e-04, 0.00000000e+00],\n",
       "        [2.34000000e-03, 1.06652618e-04, 0.00000000e+00],\n",
       "        [2.32000000e-03, 1.09442701e-04, 0.00000000e+00],\n",
       "        [2.30000000e-03, 1.12232783e-04, 0.00000000e+00],\n",
       "        [2.28000000e-03, 1.15022866e-04, 0.00000000e+00],\n",
       "        [2.26000000e-03, 1.18277962e-04, 0.00000000e+00],\n",
       "        [2.24000000e-03, 1.21068045e-04, 0.00000000e+00],\n",
       "        [2.22000000e-03, 1.23858127e-04, 0.00000000e+00],\n",
       "        [2.20000000e-03, 1.27113223e-04, 0.00000000e+00],\n",
       "        [2.18000000e-03, 1.29203169e-04, 0.00000000e+00],\n",
       "        [2.16000000e-03, 1.29731207e-04, 0.00000000e+00],\n",
       "        [2.14000000e-03, 1.30347251e-04, 0.00000000e+00],\n",
       "        [2.12000000e-03, 1.30875289e-04, 0.00000000e+00],\n",
       "        [2.10000000e-03, 1.31403327e-04, 0.00000000e+00],\n",
       "        [2.08000000e-03, 1.31931365e-04, 0.00000000e+00],\n",
       "        [2.06000000e-03, 1.32547409e-04, 0.00000000e+00],\n",
       "        [2.04000000e-03, 1.33075447e-04, 0.00000000e+00],\n",
       "        [2.02000000e-03, 1.33603484e-04, 0.00000000e+00],\n",
       "        [2.00000000e-03, 1.34219529e-04, 0.00000000e+00],\n",
       "        [1.98000000e-03, 1.34747566e-04, 0.00000000e+00],\n",
       "        [1.96000000e-03, 1.35275604e-04, 0.00000000e+00],\n",
       "        [1.94000000e-03, 1.35891648e-04, 0.00000000e+00],\n",
       "        [1.92000000e-03, 1.36419686e-04, 0.00000000e+00],\n",
       "        [1.90000000e-03, 1.36947724e-04, 0.00000000e+00],\n",
       "        [1.88000000e-03, 1.37475762e-04, 0.00000000e+00],\n",
       "        [1.86000000e-03, 1.38091806e-04, 0.00000000e+00],\n",
       "        [1.84000000e-03, 1.38619844e-04, 0.00000000e+00],\n",
       "        [1.82000000e-03, 1.39147881e-04, 0.00000000e+00],\n",
       "        [1.80000000e-03, 1.39763926e-04, 0.00000000e+00],\n",
       "        [1.78000000e-03, 1.39880179e-04, 0.00000000e+00],\n",
       "        [1.76000000e-03, 1.39164660e-04, 0.00000000e+00],\n",
       "        [1.74000000e-03, 1.38145714e-04, 0.00000000e+00],\n",
       "        [1.72000000e-03, 1.37015804e-04, 0.00000000e+00],\n",
       "        [1.70000000e-03, 1.36024025e-04, 0.00000000e+00],\n",
       "        [1.68000000e-03, 1.35032245e-04, 0.00000000e+00],\n",
       "        [1.66000000e-03, 1.34013299e-04, 0.00000000e+00],\n",
       "        [1.64000000e-03, 1.32883390e-04, 0.00000000e+00],\n",
       "        [1.62000000e-03, 1.31891610e-04, 0.00000000e+00],\n",
       "        [1.60000000e-03, 1.31660448e-04, 0.00000000e+00],\n",
       "        [1.58000000e-03, 1.31860700e-04, 0.00000000e+00],\n",
       "        [1.56000000e-03, 1.32122784e-04, 0.00000000e+00],\n",
       "        [1.54000000e-03, 1.33296811e-04, 0.00000000e+00],\n",
       "        [1.52000000e-03, 1.35410610e-04, 0.00000000e+00],\n",
       "        [1.50000000e-03, 1.37274331e-04, 0.00000000e+00],\n",
       "        [1.48000000e-03, 1.39138051e-04, 0.00000000e+00],\n",
       "        [1.46000000e-03, 1.41062314e-04, 0.00000000e+00],\n",
       "        [1.44000000e-03, 1.43176113e-04, 0.00000000e+00],\n",
       "        [1.42000000e-03, 1.45039834e-04, 0.00000000e+00],\n",
       "        [1.40000000e-03, 1.46964096e-04, 0.00000000e+00],\n",
       "        [1.38000000e-03, 1.49077895e-04, 0.00000000e+00],\n",
       "        [1.36000000e-03, 1.50941616e-04, 0.00000000e+00],\n",
       "        [1.34000000e-03, 1.52865879e-04, 0.00000000e+00],\n",
       "        [1.32000000e-03, 1.54979678e-04, 0.00000000e+00],\n",
       "        [1.30000000e-03, 1.56843398e-04, 0.00000000e+00],\n",
       "        [1.28000000e-03, 1.58707119e-04, 0.00000000e+00],\n",
       "        [1.26000000e-03, 1.60631382e-04, 0.00000000e+00],\n",
       "        [1.24000000e-03, 1.62745181e-04, 0.00000000e+00],\n",
       "        [1.22000000e-03, 1.64608901e-04, 0.00000000e+00],\n",
       "        [1.20000000e-03, 1.66533164e-04, 0.00000000e+00],\n",
       "        [1.18000000e-03, 1.68646963e-04, 0.00000000e+00],\n",
       "        [1.16000000e-03, 1.70510684e-04, 0.00000000e+00],\n",
       "        [1.14000000e-03, 1.72434946e-04, 0.00000000e+00],\n",
       "        [1.12000000e-03, 1.74548745e-04, 0.00000000e+00],\n",
       "        [1.10000000e-03, 1.76412466e-04, 0.00000000e+00],\n",
       "        [1.08000000e-03, 1.78276187e-04, 0.00000000e+00],\n",
       "        [1.06000000e-03, 1.80200449e-04, 0.00000000e+00],\n",
       "        [1.04000000e-03, 1.82314248e-04, 0.00000000e+00],\n",
       "        [1.02000000e-03, 1.84177969e-04, 0.00000000e+00],\n",
       "        [1.00000000e-03, 1.86102232e-04, 0.00000000e+00],\n",
       "        [9.80000000e-04, 1.88216031e-04, 0.00000000e+00],\n",
       "        [9.60000000e-04, 1.90079751e-04, 0.00000000e+00],\n",
       "        [9.40000000e-04, 1.92004014e-04, 0.00000000e+00],\n",
       "        [9.20000000e-04, 1.94117813e-04, 0.00000000e+00],\n",
       "        [9.00000000e-04, 1.95981534e-04, 0.00000000e+00],\n",
       "        [8.80000000e-04, 1.97845255e-04, 0.00000000e+00],\n",
       "        [8.60000000e-04, 1.99527350e-04, 0.00000000e+00],\n",
       "        [8.40000000e-04, 1.99889043e-04, 0.00000000e+00],\n",
       "        [8.20000000e-04, 1.99383745e-04, 0.00000000e+00],\n",
       "        [8.00000000e-04, 1.98878446e-04, 0.00000000e+00],\n",
       "        [7.80000000e-04, 1.98288931e-04, 0.00000000e+00],\n",
       "        [7.60000000e-04, 1.97783633e-04, 0.00000000e+00],\n",
       "        [7.40000000e-04, 1.97278334e-04, 0.00000000e+00],\n",
       "        [7.20000000e-04, 1.96688819e-04, 0.00000000e+00],\n",
       "        [7.00000000e-04, 1.96183521e-04, 0.00000000e+00],\n",
       "        [6.80000000e-04, 1.95678222e-04, 0.00000000e+00],\n",
       "        [6.60000000e-04, 1.95172923e-04, 0.00000000e+00],\n",
       "        [6.40000000e-04, 1.94583409e-04, 0.00000000e+00],\n",
       "        [6.20000000e-04, 1.94881617e-04, 0.00000000e+00],\n",
       "        [6.00000000e-04, 1.95282986e-04, 0.00000000e+00],\n",
       "        [5.80000000e-04, 1.95751251e-04, 0.00000000e+00],\n",
       "        [5.60000000e-04, 1.96152620e-04, 0.00000000e+00],\n",
       "        [5.40000000e-04, 1.96553990e-04, 0.00000000e+00],\n",
       "        [5.20000000e-04, 1.96955359e-04, 0.00000000e+00],\n",
       "        [5.00000000e-04, 1.97423624e-04, 0.00000000e+00],\n",
       "        [4.80000000e-04, 1.97824993e-04, 0.00000000e+00],\n",
       "        [4.60000000e-04, 1.98226363e-04, 0.00000000e+00],\n",
       "        [4.40000000e-04, 1.98694627e-04, 0.00000000e+00],\n",
       "        [4.20000000e-04, 1.99095997e-04, 0.00000000e+00],\n",
       "        [4.00000000e-04, 1.99497366e-04, 0.00000000e+00],\n",
       "        [3.80000000e-04, 1.99965631e-04, 0.00000000e+00],\n",
       "        [3.60000000e-04, 2.00367000e-04, 0.00000000e+00],\n",
       "        [3.40000000e-04, 2.00768370e-04, 0.00000000e+00],\n",
       "        [3.20000000e-04, 2.01169739e-04, 0.00000000e+00],\n",
       "        [3.00000000e-04, 2.00321194e-04, 0.00000000e+00],\n",
       "        [2.80000000e-04, 1.97014642e-04, 0.00000000e+00],\n",
       "        [2.60000000e-04, 1.93708090e-04, 0.00000000e+00],\n",
       "        [2.40000000e-04, 1.89850447e-04, 0.00000000e+00],\n",
       "        [2.20000000e-04, 1.86543895e-04, 0.00000000e+00],\n",
       "        [2.00000000e-04, 1.83237343e-04, 0.00000000e+00],\n",
       "        [1.80000000e-04, 1.79379699e-04, 0.00000000e+00],\n",
       "        [1.60000000e-04, 1.76073148e-04, 0.00000000e+00],\n",
       "        [1.40000000e-04, 1.72766596e-04, 0.00000000e+00],\n",
       "        [1.20000000e-04, 1.69460044e-04, 0.00000000e+00],\n",
       "        [1.00000000e-04, 1.65602400e-04, 0.00000000e+00],\n",
       "        [8.00000000e-05, 1.62295848e-04, 0.00000000e+00],\n",
       "        [6.00000000e-05, 1.58989297e-04, 0.00000000e+00],\n",
       "        [4.00000000e-05, 1.55131653e-04, 0.00000000e+00],\n",
       "        [2.00000000e-05, 1.51825101e-04, 0.00000000e+00],\n",
       "        [0.00000000e+00, 1.48518549e-04, 0.00000000e+00]]),\n",
       " 'rv_tan': array([[-9.95564052e-01,  9.40862301e-02,  0.00000000e+00],\n",
       "        [-9.95630432e-01,  9.33811686e-02,  0.00000000e+00],\n",
       "        [-9.95643535e-01,  9.32413593e-02,  0.00000000e+00],\n",
       "        [-9.95657796e-01,  9.30889570e-02,  0.00000000e+00],\n",
       "        [-9.95673409e-01,  9.29218082e-02,  0.00000000e+00],\n",
       "        [-9.95689979e-01,  9.27440864e-02,  0.00000000e+00],\n",
       "        [-9.95707685e-01,  9.25537956e-02,  0.00000000e+00],\n",
       "        [-9.95726765e-01,  9.23483035e-02,  0.00000000e+00],\n",
       "        [-9.95746734e-01,  9.21327375e-02,  0.00000000e+00],\n",
       "        [-9.95767814e-01,  9.19046226e-02,  0.00000000e+00],\n",
       "        [-9.95789340e-01,  9.16711008e-02,  0.00000000e+00],\n",
       "        [-9.95811821e-01,  9.14265693e-02,  0.00000000e+00],\n",
       "        [-9.95835292e-01,  9.11705633e-02,  0.00000000e+00],\n",
       "        [-9.95859766e-01,  9.09028428e-02,  0.00000000e+00],\n",
       "        [-9.95885260e-01,  9.06231195e-02,  0.00000000e+00],\n",
       "        [-9.95911711e-01,  9.03319685e-02,  0.00000000e+00],\n",
       "        [-9.95939134e-01,  9.00291127e-02,  0.00000000e+00],\n",
       "        [-9.95967548e-01,  8.97142267e-02,  0.00000000e+00],\n",
       "        [-9.95996884e-01,  8.93879564e-02,  0.00000000e+00],\n",
       "        [-9.96027158e-01,  8.90499874e-02,  0.00000000e+00],\n",
       "        [-9.96058358e-01,  8.87003213e-02,  0.00000000e+00],\n",
       "        [-9.96090505e-01,  8.83385831e-02,  0.00000000e+00],\n",
       "        [-9.96123521e-01,  8.79655132e-02,  0.00000000e+00],\n",
       "        [-9.96157424e-01,  8.75807478e-02,  0.00000000e+00],\n",
       "        [-9.96192355e-01,  8.71825156e-02,  0.00000000e+00],\n",
       "        [-9.96228242e-01,  8.67714843e-02,  0.00000000e+00],\n",
       "        [-9.96264985e-01,  8.63485961e-02,  0.00000000e+00],\n",
       "        [-9.96302700e-01,  8.59123335e-02,  0.00000000e+00],\n",
       "        [-9.96341114e-01,  8.54656867e-02,  0.00000000e+00],\n",
       "        [-9.96380339e-01,  8.50071784e-02,  0.00000000e+00],\n",
       "        [-9.96420357e-01,  8.45368062e-02,  0.00000000e+00],\n",
       "        [-9.96461295e-01,  8.40528877e-02,  0.00000000e+00],\n",
       "        [-9.96502854e-01,  8.35587386e-02,  0.00000000e+00],\n",
       "        [-9.96545155e-01,  8.30527167e-02,  0.00000000e+00],\n",
       "        [-9.96588331e-01,  8.25330157e-02,  0.00000000e+00],\n",
       "        [-9.96631881e-01,  8.20054449e-02,  0.00000000e+00],\n",
       "        [-9.96675888e-01,  8.14688526e-02,  0.00000000e+00],\n",
       "        [-9.96720557e-01,  8.09205199e-02,  0.00000000e+00],\n",
       "        [-9.96765859e-01,  8.03605800e-02,  0.00000000e+00],\n",
       "        [-9.96811779e-01,  7.97889594e-02,  0.00000000e+00],\n",
       "        [-9.96858297e-01,  7.92056526e-02,  0.00000000e+00],\n",
       "        [-9.96905400e-01,  7.86105783e-02,  0.00000000e+00],\n",
       "        [-9.96953055e-01,  7.80038802e-02,  0.00000000e+00],\n",
       "        [-9.97001248e-01,  7.73854776e-02,  0.00000000e+00],\n",
       "        [-9.97049962e-01,  7.67552840e-02,  0.00000000e+00],\n",
       "        [-9.97099164e-01,  7.61134508e-02,  0.00000000e+00],\n",
       "        [-9.97148838e-01,  7.54598924e-02,  0.00000000e+00],\n",
       "        [-9.97198967e-01,  7.47945167e-02,  0.00000000e+00],\n",
       "        [-9.97249517e-01,  7.41174834e-02,  0.00000000e+00],\n",
       "        [-9.97300469e-01,  7.34287013e-02,  0.00000000e+00],\n",
       "        [-9.97351801e-01,  7.27281621e-02,  0.00000000e+00],\n",
       "        [-9.97403494e-01,  7.20157668e-02,  0.00000000e+00],\n",
       "        [-9.97455511e-01,  7.12916858e-02,  0.00000000e+00],\n",
       "        [-9.97507833e-01,  7.05558209e-02,  0.00000000e+00],\n",
       "        [-9.97560441e-01,  6.98080681e-02,  0.00000000e+00],\n",
       "        [-9.97613279e-01,  6.90488595e-02,  0.00000000e+00],\n",
       "        [-9.97666378e-01,  6.82773620e-02,  0.00000000e+00],\n",
       "        [-9.97719713e-01,  6.74935163e-02,  0.00000000e+00],\n",
       "        [-9.97773237e-01,  6.66975766e-02,  0.00000000e+00],\n",
       "        [-9.97826889e-01,  6.58900606e-02,  0.00000000e+00],\n",
       "        [-9.97880658e-01,  6.50706690e-02,  0.00000000e+00],\n",
       "        [-9.97934521e-01,  6.42393336e-02,  0.00000000e+00],\n",
       "        [-9.97988460e-01,  6.33958460e-02,  0.00000000e+00],\n",
       "        [-9.98042411e-01,  6.25407547e-02,  0.00000000e+00],\n",
       "        [-9.98096300e-01,  6.16747551e-02,  0.00000000e+00],\n",
       "        [-9.98150160e-01,  6.07968646e-02,  0.00000000e+00],\n",
       "        [-9.98203961e-01,  5.99070247e-02,  0.00000000e+00],\n",
       "        [-9.98257760e-01,  5.90037698e-02,  0.00000000e+00],\n",
       "        [-9.98311641e-01,  5.80849935e-02,  0.00000000e+00],\n",
       "        [-9.98365301e-01,  5.71552828e-02,  0.00000000e+00],\n",
       "        [-9.98418771e-01,  5.62135015e-02,  0.00000000e+00],\n",
       "        [-9.98472034e-01,  5.52593637e-02,  0.00000000e+00],\n",
       "        [-9.98525091e-01,  5.42922007e-02,  0.00000000e+00],\n",
       "        [-9.98577792e-01,  5.33141095e-02,  0.00000000e+00],\n",
       "        [-9.98630182e-01,  5.23236108e-02,  0.00000000e+00],\n",
       "        [-9.98682260e-01,  5.13200112e-02,  0.00000000e+00],\n",
       "        [-9.98733877e-01,  5.03054868e-02,  0.00000000e+00],\n",
       "        [-9.98785077e-01,  4.92785026e-02,  0.00000000e+00],\n",
       "        [-9.98835854e-01,  4.82383404e-02,  0.00000000e+00],\n",
       "        [-9.98886061e-01,  4.71872555e-02,  0.00000000e+00],\n",
       "        [-9.98935724e-01,  4.61239611e-02,  0.00000000e+00],\n",
       "        [-9.98984817e-01,  4.50481351e-02,  0.00000000e+00],\n",
       "        [-9.99033335e-01,  4.39590266e-02,  0.00000000e+00],\n",
       "        [-9.99081131e-01,  4.28589967e-02,  0.00000000e+00],\n",
       "        [-9.99128240e-01,  4.17463804e-02,  0.00000000e+00],\n",
       "        [-9.99174651e-01,  4.06204017e-02,  0.00000000e+00],\n",
       "        [-9.99220223e-01,  3.94835020e-02,  0.00000000e+00],\n",
       "        [-9.99264984e-01,  3.83339600e-02,  0.00000000e+00],\n",
       "        [-9.99308921e-01,  3.71709751e-02,  0.00000000e+00],\n",
       "        [-9.99351895e-01,  3.59970689e-02,  0.00000000e+00],\n",
       "        [-9.99393920e-01,  3.48108029e-02,  0.00000000e+00],\n",
       "        [-9.99434963e-01,  3.36118191e-02,  0.00000000e+00],\n",
       "        [-9.99475005e-01,  3.23992840e-02,  0.00000000e+00],\n",
       "        [-9.99513916e-01,  3.11758270e-02,  0.00000000e+00],\n",
       "        [-9.99551710e-01,  2.99395953e-02,  0.00000000e+00],\n",
       "        [-9.99588365e-01,  2.86897305e-02,  0.00000000e+00],\n",
       "        [-9.99623756e-01,  2.74289431e-02,  0.00000000e+00],\n",
       "        [-9.99657891e-01,  2.61553240e-02,  0.00000000e+00],\n",
       "        [-9.99690744e-01,  2.48679898e-02,  0.00000000e+00],\n",
       "        [-9.99722195e-01,  2.35697327e-02,  0.00000000e+00],\n",
       "        [-9.99752239e-01,  2.22589611e-02,  0.00000000e+00],\n",
       "        [-9.99780803e-01,  2.09367212e-02,  0.00000000e+00],\n",
       "        [-9.99807775e-01,  1.96064556e-02,  0.00000000e+00],\n",
       "        [-9.99833208e-01,  1.82635237e-02,  0.00000000e+00],\n",
       "        [-9.99857048e-01,  1.69081167e-02,  0.00000000e+00],\n",
       "        [-9.99879246e-01,  1.55400612e-02,  0.00000000e+00],\n",
       "        [-9.99899747e-01,  1.41596575e-02,  0.00000000e+00],\n",
       "        [-9.99918502e-01,  1.27667341e-02,  0.00000000e+00],\n",
       "        [-9.99935460e-01,  1.13611135e-02,  0.00000000e+00],\n",
       "        [-9.99950566e-01,  9.94310516e-03,  0.00000000e+00],\n",
       "        [-9.99963768e-01,  8.51253335e-03,  0.00000000e+00],\n",
       "        [-9.99975012e-01,  7.06938380e-03,  0.00000000e+00],\n",
       "        [-9.99984244e-01,  5.61347399e-03,  0.00000000e+00],\n",
       "        [-9.99991408e-01,  4.14543178e-03,  0.00000000e+00],\n",
       "        [-9.99996450e-01,  2.66464100e-03,  0.00000000e+00],\n",
       "        [-9.99999314e-01,  1.17111080e-03,  0.00000000e+00],\n",
       "        [-9.99999944e-01, -3.34955185e-04,  0.00000000e+00],\n",
       "        [-9.99998282e-01, -1.85367832e-03,  0.00000000e+00],\n",
       "        [-9.99994271e-01, -3.38507168e-03,  0.00000000e+00],\n",
       "        [-9.99987851e-01, -4.92926082e-03,  0.00000000e+00],\n",
       "        [-9.99978965e-01, -6.48603388e-03,  0.00000000e+00],\n",
       "        [-9.99967554e-01, -8.05551503e-03,  0.00000000e+00],\n",
       "        [-9.99953555e-01, -9.63783186e-03,  0.00000000e+00],\n",
       "        [-9.99936910e-01, -1.12327662e-02,  0.00000000e+00],\n",
       "        [-9.99917558e-01, -1.28404443e-02,  0.00000000e+00],\n",
       "        [-9.99895434e-01, -1.44609956e-02,  0.00000000e+00],\n",
       "        [-9.99870480e-01, -1.60941956e-02,  0.00000000e+00],\n",
       "        [-9.99842631e-01, -1.77401723e-02,  0.00000000e+00],\n",
       "        [-9.99811823e-01, -1.93989360e-02,  0.00000000e+00],\n",
       "        [-9.99777968e-01, -2.10716683e-02,  0.00000000e+00],\n",
       "        [-9.99740533e-01, -2.27786526e-02,  0.00000000e+00],\n",
       "        [-9.99699859e-01, -2.44987981e-02,  0.00000000e+00],\n",
       "        [-9.99655660e-01, -2.62404526e-02,  0.00000000e+00],\n",
       "        [-9.99608287e-01, -2.79870113e-02,  0.00000000e+00],\n",
       "        [-9.99557467e-01, -2.97467580e-02,  0.00000000e+00],\n",
       "        [-9.99502862e-01, -3.15282291e-02,  0.00000000e+00],\n",
       "        [-9.99444920e-01, -3.33144388e-02,  0.00000000e+00],\n",
       "        [-9.99383318e-01, -3.51138592e-02,  0.00000000e+00],\n",
       "        [-9.99317984e-01, -3.69264970e-02,  0.00000000e+00],\n",
       "        [-9.99248505e-01, -3.87611404e-02,  0.00000000e+00],\n",
       "        [-9.99175468e-01, -4.06002944e-02,  0.00000000e+00],\n",
       "        [-9.99098478e-01, -4.24526826e-02,  0.00000000e+00],\n",
       "        [-9.99017063e-01, -4.43272824e-02,  0.00000000e+00],\n",
       "        [-9.98931922e-01, -4.62062159e-02,  0.00000000e+00],\n",
       "        [-9.98842602e-01, -4.80983956e-02,  0.00000000e+00]])}"
      ]
     },
     "execution_count": 7,
     "metadata": {},
     "output_type": "execute_result"
    }
   ],
   "source": [
    "p"
   ]
  },
  {
   "cell_type": "markdown",
   "metadata": {},
   "source": [
    "## Select model\n",
    "We will use DWBA to start"
   ]
  },
  {
   "cell_type": "code",
   "execution_count": 42,
   "metadata": {},
   "outputs": [
    {
     "data": {
      "text/html": [
       "<div>\n",
       "<style scoped>\n",
       "    .dataframe tbody tr th:only-of-type {\n",
       "        vertical-align: middle;\n",
       "    }\n",
       "\n",
       "    .dataframe tbody tr th {\n",
       "        vertical-align: top;\n",
       "    }\n",
       "\n",
       "    .dataframe thead th {\n",
       "        text-align: right;\n",
       "    }\n",
       "</style>\n",
       "<table border=\"1\" class=\"dataframe\">\n",
       "  <thead>\n",
       "    <tr style=\"text-align: right;\">\n",
       "      <th></th>\n",
       "      <th>medium_rho</th>\n",
       "      <th>medium_c</th>\n",
       "      <th>b</th>\n",
       "      <th>boundary_type</th>\n",
       "      <th>target_rho</th>\n",
       "      <th>target_c</th>\n",
       "      <th>theta</th>\n",
       "      <th>phi</th>\n",
       "      <th>f</th>\n",
       "      <th>ts</th>\n",
       "    </tr>\n",
       "  </thead>\n",
       "  <tbody>\n",
       "    <tr>\n",
       "      <th>0</th>\n",
       "      <td>1027.8</td>\n",
       "      <td>1480</td>\n",
       "      <td>0.001</td>\n",
       "      <td>fluid filled</td>\n",
       "      <td>1025</td>\n",
       "      <td>1520</td>\n",
       "      <td>90</td>\n",
       "      <td>0</td>\n",
       "      <td>180000</td>\n",
       "      <td>-108.358023</td>\n",
       "    </tr>\n",
       "    <tr>\n",
       "      <th>1</th>\n",
       "      <td>1027.8</td>\n",
       "      <td>1480</td>\n",
       "      <td>0.001</td>\n",
       "      <td>fluid filled</td>\n",
       "      <td>1025</td>\n",
       "      <td>1520</td>\n",
       "      <td>90</td>\n",
       "      <td>0</td>\n",
       "      <td>190000</td>\n",
       "      <td>-107.481345</td>\n",
       "    </tr>\n",
       "    <tr>\n",
       "      <th>2</th>\n",
       "      <td>1027.8</td>\n",
       "      <td>1480</td>\n",
       "      <td>0.001</td>\n",
       "      <td>fluid filled</td>\n",
       "      <td>1025</td>\n",
       "      <td>1520</td>\n",
       "      <td>90</td>\n",
       "      <td>0</td>\n",
       "      <td>200000</td>\n",
       "      <td>-106.656385</td>\n",
       "    </tr>\n",
       "    <tr>\n",
       "      <th>3</th>\n",
       "      <td>1027.8</td>\n",
       "      <td>1480</td>\n",
       "      <td>0.001</td>\n",
       "      <td>fluid filled</td>\n",
       "      <td>1025</td>\n",
       "      <td>1520</td>\n",
       "      <td>90</td>\n",
       "      <td>0</td>\n",
       "      <td>210000</td>\n",
       "      <td>-105.878466</td>\n",
       "    </tr>\n",
       "  </tbody>\n",
       "</table>\n",
       "</div>"
      ],
      "text/plain": [
       "   medium_rho  medium_c      b boundary_type  target_rho  target_c  theta  \\\n",
       "0      1027.8      1480  0.001  fluid filled        1025      1520     90   \n",
       "1      1027.8      1480  0.001  fluid filled        1025      1520     90   \n",
       "2      1027.8      1480  0.001  fluid filled        1025      1520     90   \n",
       "3      1027.8      1480  0.001  fluid filled        1025      1520     90   \n",
       "\n",
       "   phi       f          ts  \n",
       "0    0  180000 -108.358023  \n",
       "1    0  190000 -107.481345  \n",
       "2    0  200000 -106.656385  \n",
       "3    0  210000 -105.878466  "
      ]
     },
     "execution_count": 42,
     "metadata": {},
     "output_type": "execute_result"
    }
   ],
   "source": [
    "model = echosms.DWBAModel()\n",
    "ts_df = model.calculate_ts(p, expand=True)\n",
    "ts_df"
   ]
  },
  {
   "cell_type": "markdown",
   "metadata": {},
   "source": [
    "## Plot"
   ]
  },
  {
   "cell_type": "code",
   "execution_count": 43,
   "metadata": {},
   "outputs": [
    {
     "data": {
      "text/plain": [
       "<matplotlib.legend.Legend at 0x1dc98b57230>"
      ]
     },
     "execution_count": 43,
     "metadata": {},
     "output_type": "execute_result"
    },
    {
     "data": {
      "image/png": "[encoded data removed]",
      "text/plain": [
       "<Figure size 640x480 with 1 Axes>"
      ]
     },
     "metadata": {},
     "output_type": "display_data"
    }
   ],
   "source": [
    "fig, ax = plt.subplots(1, 1, sharex=True)\n",
    "\n",
    "ax.plot(ts_df['f']/1e3, ts_df['ts'], '.', label='echoSMs')\n",
    "ax.set_ylabel('TS re 1 m$^2$ [dB]')\n",
    "ax.legend(frameon=False, fontsize=6)\n"
   ]
  },
  {
   "cell_type": "markdown",
   "metadata": {},
   "source": [
    "## Weight calculations\n",
    "From Køgeler 1987, the density of Calanus finmarchicus is 1.025 g/cm3.\n",
    "We will calculate the volume of our example copepod to get a weight estimate."
   ]
  },
  {
   "cell_type": "code",
   "execution_count": 17,
   "metadata": {},
   "outputs": [],
   "source": [
    "L_a = 5.3 #ration of total length to radius of width for copepod prolate spheroid\n",
    "a = p['a'].max()\n",
    "c = L_a *a /2"
   ]
  },
  {
   "cell_type": "code",
   "execution_count": 22,
   "metadata": {},
   "outputs": [],
   "source": [
    "# equation for volume of prolate spheroid\n",
    "V = (4/3) * np.pi * (a**2) * c"
   ]
  },
  {
   "cell_type": "code",
   "execution_count": 23,
   "metadata": {},
   "outputs": [
    {
     "data": {
      "text/plain": [
       "1.5897318124195085e-09"
      ]
     },
     "execution_count": 23,
     "metadata": {},
     "output_type": "execute_result"
    }
   ],
   "source": [
    "V"
   ]
  },
  {
   "cell_type": "code",
   "execution_count": 38,
   "metadata": {},
   "outputs": [],
   "source": [
    "weight = p['target_rhbo']*V"
   ]
  },
  {
   "cell_type": "code",
   "execution_count": 42,
   "metadata": {},
   "outputs": [
    {
     "name": "stdout",
     "output_type": "stream",
     "text": [
      " the weight of a single copepod is 0.0016294751077299964g)\n"
     ]
    }
   ],
   "source": [
    "print(f'The weight of a single copepod is {weight *1000}g)')"
   ]
  },
  {
   "cell_type": "code",
   "execution_count": null,
   "metadata": {},
   "outputs": [],
   "source": []
  }
 ],
 "metadata": {
  "kernelspec": {
   "display_name": "wgfast",
   "language": "python",
   "name": "python3"
  },
  "language_info": {
   "codemirror_mode": {
    "name": "ipython",
    "version": 3
   },
   "file_extension": ".py",
   "mimetype": "text/x-python",
   "name": "python",
   "nbconvert_exporter": "python",
   "pygments_lexer": "ipython3",
   "version": "3.12.9"
  }
 },
 "nbformat": 4,
 "nbformat_minor": 2
}
