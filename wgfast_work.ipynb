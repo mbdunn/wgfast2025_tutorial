{
 "cells": [
  {
   "cell_type": "code",
   "execution_count": 1,
   "id": "898cb43c-48a1-4ae7-9483-6b6b482a3ea2",
   "metadata": {},
   "outputs": [
    {
     "name": "stdout",
     "output_type": "stream",
     "text": [
      "Hello Muriel\n"
     ]
    }
   ],
   "source": [
    "print(\"Hello Muriel\")"
   ]
  },
  {
   "cell_type": "markdown",
   "id": "0b736022-9d8f-489d-8af2-5c5bf98383f5",
   "metadata": {},
   "source": [
    "## WGFAST Echopype workshop"
   ]
  },
  {
   "cell_type": "markdown",
   "id": "b7b72d54-2b70-49a6-ba1b-25695c75cbd2",
   "metadata": {},
   "source": [
    "We will start by writing a function"
   ]
  },
  {
   "cell_type": "code",
   "execution_count": 23,
   "id": "d7e1e54a-f30d-4139-a4d6-90bcb2f3564a",
   "metadata": {},
   "outputs": [],
   "source": [
    "def wavelength(f, c=1500):\n",
    "    \"\"\"\n",
    "    Calculate the wavelength \\lambda = c / f\n",
    "\n",
    "    Attributes:\n",
    "    frequency (float): Frequency of the wave in Hz.\n",
    "    c (float): Speed of sound in the water in m/s (default to 1500 m/s)\n",
    "    \"\"\"\n",
    "    return c/f"
   ]
  },
  {
   "cell_type": "code",
   "execution_count": 43,
   "id": "2e0dccd9-43b9-4d65-b0b1-feb26478d1ba",
   "metadata": {},
   "outputs": [
    {
     "name": "stdout",
     "output_type": "stream",
     "text": [
      "The wave length is 0.0074 m\n"
     ]
    }
   ],
   "source": [
    "l = wavelength(200000, 1480)\n",
    "print(f'The wave length is {l:.3} m')"
   ]
  },
  {
   "cell_type": "code",
   "execution_count": 25,
   "id": "3513207e-146e-4c58-a229-0535d407f297",
   "metadata": {},
   "outputs": [],
   "source": [
    "import math"
   ]
  },
  {
   "cell_type": "code",
   "execution_count": 28,
   "id": "865cd05f-b867-40ca-b44d-ac640c121d34",
   "metadata": {},
   "outputs": [],
   "source": [
    "def wave_number(l):\n",
    "    \"\"\"\n",
    "    Calculate the wave number based on the wave length.\n",
    "\n",
    "    Attributes:\n",
    "    lambda (float): Wavelength in m\n",
    "    \"\"\"\n",
    "    return 2*math.pi/l"
   ]
  },
  {
   "cell_type": "code",
   "execution_count": 39,
   "id": "f9c4bd8a-5851-45c7-84be-6733ae427168",
   "metadata": {},
   "outputs": [
    {
     "name": "stdout",
     "output_type": "stream",
     "text": [
      "The wave number is 849.1\n"
     ]
    }
   ],
   "source": [
    "k = wave_number(l)\n",
    "print(f'The wave number is {k:.4}')"
   ]
  },
  {
   "cell_type": "code",
   "execution_count": 52,
   "id": "9761887e-3430-4c57-b4da-e149d0e98417",
   "metadata": {},
   "outputs": [],
   "source": [
    "def active_radius(k, bw):\n",
    "    \"\"\"\n",
    "    Calculate the active radius of a transducer in m.\n",
    "\n",
    "    Attributes:\n",
    "    k (float): Wavelength number in m\n",
    "    bw (float): the 3dB beamwidth in degrees\n",
    "    \"\"\"\n",
    "    return 3.2 / (k * math.sin(math.radians(bw/2)))"
   ]
  },
  {
   "cell_type": "code",
   "execution_count": 55,
   "id": "37f36a0a-f3ff-4570-a086-86aae25777b6",
   "metadata": {},
   "outputs": [],
   "source": [
    "dr = active_radius(k, 7)"
   ]
  },
  {
   "cell_type": "code",
   "execution_count": 56,
   "id": "d947c501-8bc5-40b3-8b89-315d3a43adea",
   "metadata": {},
   "outputs": [
    {
     "data": {
      "text/plain": [
       "0.06173430324675036"
      ]
     },
     "execution_count": 56,
     "metadata": {},
     "output_type": "execute_result"
    }
   ],
   "source": [
    "dr"
   ]
  },
  {
   "cell_type": "code",
   "execution_count": null,
   "id": "b09ce8be-2752-479d-ac86-1b2a742347e3",
   "metadata": {},
   "outputs": [],
   "source": []
  }
 ],
 "metadata": {
  "kernelspec": {
   "display_name": "Python 3 (ipykernel)",
   "language": "python",
   "name": "python3"
  },
  "language_info": {
   "codemirror_mode": {
    "name": "ipython",
    "version": 3
   },
   "file_extension": ".py",
   "mimetype": "text/x-python",
   "name": "python",
   "nbconvert_exporter": "python",
   "pygments_lexer": "ipython3",
   "version": "3.11.5"
  }
 },
 "nbformat": 4,
 "nbformat_minor": 5
}
